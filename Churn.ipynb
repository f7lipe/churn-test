{
 "cells": [
  {
   "cell_type": "markdown",
   "metadata": {
    "id": "vzrKvp5SYIEh"
   },
   "source": [
    "# Desafio Técnico - Teste de Churn\n",
    "\n",
    "Entregue por: Filipe Ribeiro Correia da Silva\n",
    "\n",
    "Este relatório tem como objetivo apresentar os resultados obtidos no desafio técnico de construir um modelo preditivo para prever o churn (cancelamento) de clientes em uma empresa utilizando o algoritmo de RandomForest. Para isso, foi necessário identificar o perfil dos clientes que cancelam e aqueles que não cancelam, bem como apresentar um modelo preditivo para o churn. Além disso, foi necessário notar que a base de dados estava desbalanceada e, portanto, foram utilizadas estratégias para tratar esse desbalanceamento. Para isso, foram identificadas as covariáveis dos clientes associadas com o churn e a base de dados foi dividida em treino, validação e teste, sendo que os hiperparâmetros foram calibrados usando os conjuntos de treino e validação. Ao final, foram definidas métricas de desempenho e reportado o resultado final usando o conjunto de teste. Por fim, são apresentadas as conclusões obtidas a partir do desenvolvimento deste projeto.\n",
    "\n",
    "\n",
    "## Sumário\n",
    "\n",
    "\n",
    " \n",
    "\n",
    "1.   Preparação\n",
    "2.   Análise Exploratórioa\n",
    "3.   Criando um dataset com as variáveis selecionadas\n",
    "4.   Balanceamento do dataset\n",
    "5.   Preparação do modelo\n",
    "6.   Avaliando o desempenho\n",
    "7.   Conclusão \n",
    "8.   Referências\n",
    "\n"
   ]
  },
  {
   "cell_type": "markdown",
   "metadata": {
    "id": "ufafe50JXFKM"
   },
   "source": [
    "# Prepação\n",
    "\n",
    "Antes de iniciar a elaboração do relatório, é fundamental realizarmos uma preparação adequada da base de dados. Nessa seção, vamos importar as bibliotecas necessárias, incluindo Pandas, Numpy, Matplotlib e Seaborn. \n",
    "\n",
    "Em seguida, vamos fazer a leitura do arquivo CSV contendo o dataset a ser utilizado no projeto, utilizando o método \"read_csv\" do Pandas. Dessa forma, a base de dados está pronta para ser explorada e analisada, a fim de obter insights e desenvolver um modelo preditivo para prever o churn de clientes em uma empresa. "
   ]
  },
  {
   "cell_type": "code",
   "execution_count": null,
   "metadata": {
    "id": "T9fCVdl1Un51"
   },
   "outputs": [],
   "source": [
    "import pandas as pd\n",
    "import numpy as np\n",
    "import matplotlib.pyplot as plt\n",
    "import seaborn as sns\n",
    "\n",
    "df = pd.read_csv(\"dataset.csv\", sep=\",\")\n",
    "\n"
   ]
  },
  {
   "cell_type": "markdown",
   "metadata": {
    "id": "gqSOpQ1AXMcH"
   },
   "source": [
    "# Análise Exploratória\n",
    "\n",
    "Nesta seção vamos conhecer melhor a base dados. Para isso, vamos analisar as informações, tratar de possíveis dados faltantes, além de investigar variáveis em potencial que nos ajudem a criar um modelo preditivo de taxa de churn."
   ]
  },
  {
   "cell_type": "markdown",
   "metadata": {
    "id": "zMhNAwIzpwxu"
   },
   "source": [
    "## Conhecendo os dados\n",
    "\n",
    "Aqui vamos explorar os dados para obter informações relevantes sobre as características dos clientes e o comportamento de cancelamento. Vamos utilizar ferramentas gráficas e correlações entre variáveis. Essa análise exploratória nos permite identificar padrões e relações entre variáveis, a fim de direcionar a construção do modelo preditivo."
   ]
  },
  {
   "cell_type": "markdown",
   "metadata": {
    "id": "z1HbAvS2qgK8"
   },
   "source": [
    "### As primeiras linhas do conjunto\n",
    "\n",
    "A tabela a seguir mostra as cinco primeiras linhas do conjuto de dados. "
   ]
  },
  {
   "cell_type": "code",
   "execution_count": null,
   "metadata": {
    "colab": {
     "base_uri": "https://localhost:8080/",
     "height": 324
    },
    "id": "IrqL2eF4G1qp",
    "outputId": "11e1e966-0fcb-48ab-83de-1b1a2da16da4"
   },
   "outputs": [
    {
     "data": {
      "text/html": [
       "\n",
       "  <div id=\"df-44829514-cfe7-4b0d-a1ba-71fb245c22f9\">\n",
       "    <div class=\"colab-df-container\">\n",
       "      <div>\n",
       "<style scoped>\n",
       "    .dataframe tbody tr th:only-of-type {\n",
       "        vertical-align: middle;\n",
       "    }\n",
       "\n",
       "    .dataframe tbody tr th {\n",
       "        vertical-align: top;\n",
       "    }\n",
       "\n",
       "    .dataframe thead th {\n",
       "        text-align: right;\n",
       "    }\n",
       "</style>\n",
       "<table border=\"1\" class=\"dataframe\">\n",
       "  <thead>\n",
       "    <tr style=\"text-align: right;\">\n",
       "      <th></th>\n",
       "      <th>gender</th>\n",
       "      <th>SeniorCitizen</th>\n",
       "      <th>Partner</th>\n",
       "      <th>Dependents</th>\n",
       "      <th>tenure</th>\n",
       "      <th>PhoneService</th>\n",
       "      <th>MultipleLines</th>\n",
       "      <th>InternetService</th>\n",
       "      <th>OnlineSecurity</th>\n",
       "      <th>OnlineBackup</th>\n",
       "      <th>DeviceProtection</th>\n",
       "      <th>TechSupport</th>\n",
       "      <th>StreamingTV</th>\n",
       "      <th>StreamingMovies</th>\n",
       "      <th>Contract</th>\n",
       "      <th>PaperlessBilling</th>\n",
       "      <th>PaymentMethod</th>\n",
       "      <th>MonthlyCharges</th>\n",
       "      <th>TotalCharges</th>\n",
       "      <th>Churn</th>\n",
       "    </tr>\n",
       "  </thead>\n",
       "  <tbody>\n",
       "    <tr>\n",
       "      <th>0</th>\n",
       "      <td>Female</td>\n",
       "      <td>0</td>\n",
       "      <td>Yes</td>\n",
       "      <td>No</td>\n",
       "      <td>1</td>\n",
       "      <td>No</td>\n",
       "      <td>No phone service</td>\n",
       "      <td>DSL</td>\n",
       "      <td>No</td>\n",
       "      <td>Yes</td>\n",
       "      <td>No</td>\n",
       "      <td>No</td>\n",
       "      <td>No</td>\n",
       "      <td>No</td>\n",
       "      <td>Month-to-month</td>\n",
       "      <td>Yes</td>\n",
       "      <td>Electronic check</td>\n",
       "      <td>29.85</td>\n",
       "      <td>29.85</td>\n",
       "      <td>No</td>\n",
       "    </tr>\n",
       "    <tr>\n",
       "      <th>1</th>\n",
       "      <td>Male</td>\n",
       "      <td>0</td>\n",
       "      <td>No</td>\n",
       "      <td>No</td>\n",
       "      <td>34</td>\n",
       "      <td>Yes</td>\n",
       "      <td>No</td>\n",
       "      <td>DSL</td>\n",
       "      <td>Yes</td>\n",
       "      <td>No</td>\n",
       "      <td>Yes</td>\n",
       "      <td>No</td>\n",
       "      <td>No</td>\n",
       "      <td>No</td>\n",
       "      <td>One year</td>\n",
       "      <td>No</td>\n",
       "      <td>Mailed check</td>\n",
       "      <td>56.95</td>\n",
       "      <td>1889.5</td>\n",
       "      <td>No</td>\n",
       "    </tr>\n",
       "    <tr>\n",
       "      <th>2</th>\n",
       "      <td>Male</td>\n",
       "      <td>0</td>\n",
       "      <td>No</td>\n",
       "      <td>No</td>\n",
       "      <td>2</td>\n",
       "      <td>Yes</td>\n",
       "      <td>No</td>\n",
       "      <td>DSL</td>\n",
       "      <td>Yes</td>\n",
       "      <td>Yes</td>\n",
       "      <td>No</td>\n",
       "      <td>No</td>\n",
       "      <td>No</td>\n",
       "      <td>No</td>\n",
       "      <td>Month-to-month</td>\n",
       "      <td>Yes</td>\n",
       "      <td>Mailed check</td>\n",
       "      <td>53.85</td>\n",
       "      <td>108.15</td>\n",
       "      <td>Yes</td>\n",
       "    </tr>\n",
       "    <tr>\n",
       "      <th>3</th>\n",
       "      <td>Male</td>\n",
       "      <td>0</td>\n",
       "      <td>No</td>\n",
       "      <td>No</td>\n",
       "      <td>45</td>\n",
       "      <td>No</td>\n",
       "      <td>No phone service</td>\n",
       "      <td>DSL</td>\n",
       "      <td>Yes</td>\n",
       "      <td>No</td>\n",
       "      <td>Yes</td>\n",
       "      <td>Yes</td>\n",
       "      <td>No</td>\n",
       "      <td>No</td>\n",
       "      <td>One year</td>\n",
       "      <td>No</td>\n",
       "      <td>Bank transfer (automatic)</td>\n",
       "      <td>42.30</td>\n",
       "      <td>1840.75</td>\n",
       "      <td>No</td>\n",
       "    </tr>\n",
       "    <tr>\n",
       "      <th>4</th>\n",
       "      <td>Female</td>\n",
       "      <td>0</td>\n",
       "      <td>No</td>\n",
       "      <td>No</td>\n",
       "      <td>2</td>\n",
       "      <td>Yes</td>\n",
       "      <td>No</td>\n",
       "      <td>Fiber optic</td>\n",
       "      <td>No</td>\n",
       "      <td>No</td>\n",
       "      <td>No</td>\n",
       "      <td>No</td>\n",
       "      <td>No</td>\n",
       "      <td>No</td>\n",
       "      <td>Month-to-month</td>\n",
       "      <td>Yes</td>\n",
       "      <td>Electronic check</td>\n",
       "      <td>70.70</td>\n",
       "      <td>151.65</td>\n",
       "      <td>Yes</td>\n",
       "    </tr>\n",
       "  </tbody>\n",
       "</table>\n",
       "</div>\n",
       "      <button class=\"colab-df-convert\" onclick=\"convertToInteractive('df-44829514-cfe7-4b0d-a1ba-71fb245c22f9')\"\n",
       "              title=\"Convert this dataframe to an interactive table.\"\n",
       "              style=\"display:none;\">\n",
       "        \n",
       "  <svg xmlns=\"http://www.w3.org/2000/svg\" height=\"24px\"viewBox=\"0 0 24 24\"\n",
       "       width=\"24px\">\n",
       "    <path d=\"M0 0h24v24H0V0z\" fill=\"none\"/>\n",
       "    <path d=\"M18.56 5.44l.94 2.06.94-2.06 2.06-.94-2.06-.94-.94-2.06-.94 2.06-2.06.94zm-11 1L8.5 8.5l.94-2.06 2.06-.94-2.06-.94L8.5 2.5l-.94 2.06-2.06.94zm10 10l.94 2.06.94-2.06 2.06-.94-2.06-.94-.94-2.06-.94 2.06-2.06.94z\"/><path d=\"M17.41 7.96l-1.37-1.37c-.4-.4-.92-.59-1.43-.59-.52 0-1.04.2-1.43.59L10.3 9.45l-7.72 7.72c-.78.78-.78 2.05 0 2.83L4 21.41c.39.39.9.59 1.41.59.51 0 1.02-.2 1.41-.59l7.78-7.78 2.81-2.81c.8-.78.8-2.07 0-2.86zM5.41 20L4 18.59l7.72-7.72 1.47 1.35L5.41 20z\"/>\n",
       "  </svg>\n",
       "      </button>\n",
       "      \n",
       "  <style>\n",
       "    .colab-df-container {\n",
       "      display:flex;\n",
       "      flex-wrap:wrap;\n",
       "      gap: 12px;\n",
       "    }\n",
       "\n",
       "    .colab-df-convert {\n",
       "      background-color: #E8F0FE;\n",
       "      border: none;\n",
       "      border-radius: 50%;\n",
       "      cursor: pointer;\n",
       "      display: none;\n",
       "      fill: #1967D2;\n",
       "      height: 32px;\n",
       "      padding: 0 0 0 0;\n",
       "      width: 32px;\n",
       "    }\n",
       "\n",
       "    .colab-df-convert:hover {\n",
       "      background-color: #E2EBFA;\n",
       "      box-shadow: 0px 1px 2px rgba(60, 64, 67, 0.3), 0px 1px 3px 1px rgba(60, 64, 67, 0.15);\n",
       "      fill: #174EA6;\n",
       "    }\n",
       "\n",
       "    [theme=dark] .colab-df-convert {\n",
       "      background-color: #3B4455;\n",
       "      fill: #D2E3FC;\n",
       "    }\n",
       "\n",
       "    [theme=dark] .colab-df-convert:hover {\n",
       "      background-color: #434B5C;\n",
       "      box-shadow: 0px 1px 3px 1px rgba(0, 0, 0, 0.15);\n",
       "      filter: drop-shadow(0px 1px 2px rgba(0, 0, 0, 0.3));\n",
       "      fill: #FFFFFF;\n",
       "    }\n",
       "  </style>\n",
       "\n",
       "      <script>\n",
       "        const buttonEl =\n",
       "          document.querySelector('#df-44829514-cfe7-4b0d-a1ba-71fb245c22f9 button.colab-df-convert');\n",
       "        buttonEl.style.display =\n",
       "          google.colab.kernel.accessAllowed ? 'block' : 'none';\n",
       "\n",
       "        async function convertToInteractive(key) {\n",
       "          const element = document.querySelector('#df-44829514-cfe7-4b0d-a1ba-71fb245c22f9');\n",
       "          const dataTable =\n",
       "            await google.colab.kernel.invokeFunction('convertToInteractive',\n",
       "                                                     [key], {});\n",
       "          if (!dataTable) return;\n",
       "\n",
       "          const docLinkHtml = 'Like what you see? Visit the ' +\n",
       "            '<a target=\"_blank\" href=https://colab.research.google.com/notebooks/data_table.ipynb>data table notebook</a>'\n",
       "            + ' to learn more about interactive tables.';\n",
       "          element.innerHTML = '';\n",
       "          dataTable['output_type'] = 'display_data';\n",
       "          await google.colab.output.renderOutput(dataTable, element);\n",
       "          const docLink = document.createElement('div');\n",
       "          docLink.innerHTML = docLinkHtml;\n",
       "          element.appendChild(docLink);\n",
       "        }\n",
       "      </script>\n",
       "    </div>\n",
       "  </div>\n",
       "  "
      ],
      "text/plain": [
       "   gender  SeniorCitizen Partner Dependents  tenure PhoneService  \\\n",
       "0  Female              0     Yes         No       1           No   \n",
       "1    Male              0      No         No      34          Yes   \n",
       "2    Male              0      No         No       2          Yes   \n",
       "3    Male              0      No         No      45           No   \n",
       "4  Female              0      No         No       2          Yes   \n",
       "\n",
       "      MultipleLines InternetService OnlineSecurity OnlineBackup  \\\n",
       "0  No phone service             DSL             No          Yes   \n",
       "1                No             DSL            Yes           No   \n",
       "2                No             DSL            Yes          Yes   \n",
       "3  No phone service             DSL            Yes           No   \n",
       "4                No     Fiber optic             No           No   \n",
       "\n",
       "  DeviceProtection TechSupport StreamingTV StreamingMovies        Contract  \\\n",
       "0               No          No          No              No  Month-to-month   \n",
       "1              Yes          No          No              No        One year   \n",
       "2               No          No          No              No  Month-to-month   \n",
       "3              Yes         Yes          No              No        One year   \n",
       "4               No          No          No              No  Month-to-month   \n",
       "\n",
       "  PaperlessBilling              PaymentMethod  MonthlyCharges TotalCharges  \\\n",
       "0              Yes           Electronic check           29.85        29.85   \n",
       "1               No               Mailed check           56.95       1889.5   \n",
       "2              Yes               Mailed check           53.85       108.15   \n",
       "3               No  Bank transfer (automatic)           42.30      1840.75   \n",
       "4              Yes           Electronic check           70.70       151.65   \n",
       "\n",
       "  Churn  \n",
       "0    No  \n",
       "1    No  \n",
       "2   Yes  \n",
       "3    No  \n",
       "4   Yes  "
      ]
     },
     "execution_count": 2,
     "metadata": {},
     "output_type": "execute_result"
    }
   ],
   "source": [
    "df.head()"
   ]
  },
  {
   "cell_type": "markdown",
   "metadata": {
    "id": "-7ebldE7G-U9"
   },
   "source": [
    "Em resumo, as colunas presentes nesse conjunto incluem:\n",
    "\n",
    "* ID: um identificador único para cada cliente\n",
    "* Gender: o gênero do cliente (masculino ou feminino)\n",
    "* SeniorCitizen: um indicador binário (0 ou 1) para indicar se o cliente é idoso ou não\n",
    "* Partner: um indicador binário para indicar se o cliente tem um parceiro ou não\n",
    "* Dependents: um indicador binário para indicar se o cliente tem dependentes ou não\n",
    "* Tenure: o número de meses que o cliente permaneceu com a empresa\n",
    "* PhoneService: um indicador binário para indicar se o cliente tem serviço de telefone ou não\n",
    "* MultipleLines: um indicador binário para indicar se o cliente tem várias linhas de telefone ou não\n",
    "* InternetService: o tipo de serviço de internet utilizado pelo cliente (DSL, fibra óptica ou não tem)\n",
    "* OnlineSecurity: um indicador binário para indicar se o cliente tem segurança online ou não\n",
    "* OnlineBackup: um indicador binário para indicar se o cliente tem backup online ou não\n",
    "* DeviceProtection: um indicador binário para indicar se o cliente tem proteção de dispositivo ou não\n",
    "* TechSupport: um indicador binário para indicar se o cliente tem suporte técnico ou não\n",
    "* StreamingTV: um indicador binário para indicar se o cliente tem serviço de TV streaming ou não\n",
    "* StreamingMovies: um indicador binário para indicar se o cliente tem serviço de filmes streaming ou não\n",
    "* Contract: o tipo de contrato do cliente (mensal, anual ou bianual)\n",
    "* PaperlessBilling: um indicador binário para indicar se o cliente utiliza cobrança sem papel ou não\n",
    "* PaymentMethod: o método de pagamento utilizado pelo cliente\n",
    "* MonthlyCharges: o valor mensal cobrado pela empresa ao cliente\n",
    "* TotalCharges: o valor total cobrado pela empresa ao cliente\n",
    "* **Churn**: um indicador binário para indicar se o cliente cancelou o serviço ou não (o valor \"Sim\" indica que o cliente cancelou e \"Não\" indica que o cliente permaneceu com a empresa)\n",
    "\n",
    "A partir dessas informações, é possível realizar diversas análises e visualizações para entender melhor as razões pelas quais os clientes cancelaram o serviço da empresa.\n",
    "\n",
    "\n",
    "\n",
    "---"
   ]
  },
  {
   "cell_type": "markdown",
   "metadata": {
    "id": "ITIJtP_8rJpp"
   },
   "source": [
    "### Informações faltantes\n",
    "\n",
    "Uma das questões importantes a serem consideradas durante a análise exploratória é a verificação de campos ou variáveis que possam conter informações ausentes ou faltantes. É fundamental identificar esses campos e avaliar como lidar com as informações ausentes, uma vez que elas podem afetar a qualidade e a confiabilidade das análises e dos resultados obtidos. \n",
    "\n",
    "Cada linha a seguir exibe um somatório do número de informações faltantes em cada coluna do conjunto."
   ]
  },
  {
   "cell_type": "code",
   "execution_count": null,
   "metadata": {
    "colab": {
     "base_uri": "https://localhost:8080/"
    },
    "id": "t3OvHlRJJao-",
    "outputId": "276178d1-4d68-488a-990d-3d5b2c68738d"
   },
   "outputs": [
    {
     "data": {
      "text/plain": [
       "gender              0\n",
       "SeniorCitizen       0\n",
       "Partner             0\n",
       "Dependents          0\n",
       "tenure              0\n",
       "PhoneService        0\n",
       "MultipleLines       0\n",
       "InternetService     0\n",
       "OnlineSecurity      0\n",
       "OnlineBackup        0\n",
       "DeviceProtection    0\n",
       "TechSupport         0\n",
       "StreamingTV         0\n",
       "StreamingMovies     0\n",
       "Contract            0\n",
       "PaperlessBilling    0\n",
       "PaymentMethod       0\n",
       "MonthlyCharges      0\n",
       "TotalCharges        0\n",
       "Churn               0\n",
       "dtype: int64"
      ]
     },
     "execution_count": 3,
     "metadata": {},
     "output_type": "execute_result"
    }
   ],
   "source": [
    "df.isnull().sum()"
   ]
  },
  {
   "cell_type": "markdown",
   "metadata": {
    "id": "wgqMTwAwK2Uq"
   },
   "source": [
    "O resultado retornado por `df.isnull().sum()` é uma série com todos os valores iguais a zero, isso significa que não há valores nulos em nenhum dos campos do DataFrame. Ou seja, todos os campos parecem estar preenchidos com algum valor, então não há dados nulos.\n",
    "\n",
    "\n",
    "\n",
    "---\n",
    "\n"
   ]
  },
  {
   "cell_type": "markdown",
   "metadata": {
    "id": "OWueC0A1qYFt"
   },
   "source": [
    "### O caso do conjunto de dados desbalanceado\n",
    "\n",
    "Para determinar se a base de dados está desbalanceada, é necessário verificar a distribuição da variável alvo, que neste caso é a coluna \"**Churn**\". Para isso, vamos plotar um gráfico de pizza.\n"
   ]
  },
  {
   "cell_type": "code",
   "execution_count": null,
   "metadata": {
    "colab": {
     "base_uri": "https://localhost:8080/",
     "height": 428
    },
    "id": "dlwJBdJqOMWo",
    "outputId": "bf6b4687-952d-4621-993b-11e09d0ac0eb"
   },
   "outputs": [
    {
     "data": {
      "image/png": "[encoded data removed]",
      "text/plain": [
       "<Figure size 640x480 with 1 Axes>"
      ]
     },
     "metadata": {},
     "output_type": "display_data"
    }
   ],
   "source": [
    "# Cria um gráfico de pizza com base em uma coluna do DataFrame\n",
    "df['Churn'].value_counts().plot(kind='pie')\n",
    "\n",
    "# Adicionar título ao gráfico\n",
    "plt.title('Distribuição de Churn')\n",
    "\n",
    "# Exibir o gráfico\n",
    "plt.show()"
   ]
  },
  {
   "cell_type": "markdown",
   "metadata": {
    "id": "9r_YBjnxRevf"
   },
   "source": [
    "A distribuição dos valores na coluna \"**Churn**\" indica que a base de dados está desbalanceada, com uma proporção maior de clientes que não cancelaram o serviço em comparação com aqueles que cancelaram. \n",
    "\n",
    "Trataremos da questão do desbanceleamento  mais adiante.\n",
    "\n",
    "\n",
    "\n",
    "---\n",
    "\n",
    "\n",
    "\n"
   ]
  },
  {
   "cell_type": "markdown",
   "metadata": {
    "id": "F7loT_Lmp2Uv"
   },
   "source": [
    "## Identificação de variáveis importantes\n",
    "\n",
    "Essa é uma das etapas mais fundamentais da análise exploratória pois podemos fazer deduções sobre quais variáveis têm maior impacto na ocorrência do churn e, a partir de análises mais detalhadas, aceitar ou refutar hipóteses sobre essas variáveis.  \n",
    "\n",
    "A seguir, uma lista de perguntas que podemos levar em conta:\n",
    "\n",
    "* **Tipo de contrato**: clientes com contratos de curto prazo ou sem contrato podem ter mais probabilidade de cancelar?\n",
    "* **Pagamento automático**: clientes que não usam pagamento automático podem ter mais probabilidade de cancelar?\n",
    "* **Idade**: clientes mais jovens ou mais velhos podem ter mais probabilidade de cancelar?\n",
    "* **Gênero**: pode haver diferenças de churn entre gêneros?\n",
    "* **Valor mensal**: clientes com valores mensais mais altos ou mais baixos podem ter mais probabilidade de cancelar?\n",
    "\n",
    "Para visualizar essas informações, podemos realizar uma análise gráfica dos dados para ver como cada variável se relaciona com a variável alvo \"**Churn**\". A seguir, faremos uma análise gráfica para cada variável citada acima.\n",
    "\n"
   ]
  },
  {
   "cell_type": "markdown",
   "metadata": {
    "id": "mg6Q1ZbfTaXX"
   },
   "source": [
    "### Churn por tipo de contrato (Contract)\n",
    "\n",
    "O código a seguir agrupa os dados pelo tipo de contrato e pela variável Churn, conta o número de ocorrências para cada combinação e depois plota um gráfico de barras empilhadas. O gráfico resultante é o seguinte:"
   ]
  },
  {
   "cell_type": "code",
   "execution_count": null,
   "metadata": {
    "colab": {
     "base_uri": "https://localhost:8080/",
     "height": 548
    },
    "id": "ChyYjHzwThaT",
    "outputId": "3f90ac9a-bc18-47eb-c867-60822fbdf05f"
   },
   "outputs": [
    {
     "data": {
      "image/png": "[encoded data removed]",
      "text/plain": [
       "<Figure size 640x480 with 1 Axes>"
      ]
     },
     "metadata": {},
     "output_type": "display_data"
    }
   ],
   "source": [
    "churn_by_contract = df.groupby(['Contract', 'Churn']).size().unstack()\n",
    "churn_by_contract.plot(kind='bar', stacked=True)\n",
    "plt.show()"
   ]
  },
  {
   "cell_type": "markdown",
   "metadata": {
    "id": "6Onl_rfmTvLl"
   },
   "source": [
    "Podemos ver que os clientes com contrato mensal têm uma taxa de churn significativamente maior do que os clientes com contrato de um ou dois anos."
   ]
  },
  {
   "cell_type": "markdown",
   "metadata": {
    "id": "MS0donz2UJ_b"
   },
   "source": [
    "### Churn por de tipo pagamento (PaymentMethod)\n",
    "Vamos ver agora como o churn varia em relação ao tipo de pagamento:"
   ]
  },
  {
   "cell_type": "code",
   "execution_count": null,
   "metadata": {
    "colab": {
     "base_uri": "https://localhost:8080/",
     "height": 616
    },
    "id": "vtSAtzJbUdJl",
    "outputId": "a8965dfd-693b-477c-ac6b-76f62da4d8f5"
   },
   "outputs": [
    {
     "data": {
      "image/png": "[encoded data removed]",
      "text/plain": [
       "<Figure size 640x480 with 1 Axes>"
      ]
     },
     "metadata": {},
     "output_type": "display_data"
    }
   ],
   "source": [
    "churn_by_payment = df.groupby(['PaymentMethod', 'Churn']).size().unstack()\n",
    "churn_by_payment.plot(kind='bar', stacked=True)\n",
    "plt.show()"
   ]
  },
  {
   "cell_type": "markdown",
   "metadata": {
    "id": "OO2uW0saUtm9"
   },
   "source": [
    "Podemos ver que os clientes que pagam por cheque eletrônico têm uma taxa de churn significativamente maior do que os clientes que pagam por outros meios."
   ]
  },
  {
   "cell_type": "markdown",
   "metadata": {
    "id": "ltzLVS1p9Xnh"
   },
   "source": [
    "### Churn por idade (SeniorCitizen)\n",
    "\n",
    "Sabemos que clientes mais velhos são propensos à cancelamento de serviços, por isso vamos analisar essa possível correlação."
   ]
  },
  {
   "cell_type": "code",
   "execution_count": null,
   "metadata": {
    "colab": {
     "base_uri": "https://localhost:8080/",
     "height": 472
    },
    "id": "lXzYTIp-9vui",
    "outputId": "bbbbf6c8-acf6-421f-e5d9-d6351c8eac56"
   },
   "outputs": [
    {
     "data": {
      "image/png": "[encoded data removed]",
      "text/plain": [
       "<Figure size 640x480 with 1 Axes>"
      ]
     },
     "metadata": {},
     "output_type": "display_data"
    }
   ],
   "source": [
    "# Agrupando por SeniorCitizen e Churn\n",
    "churn_by_senior = df.groupby(['SeniorCitizen', 'Churn']).size().unstack()\n",
    "\n",
    "# Plotando gráfico de barras\n",
    "churn_by_senior.plot(kind='bar', stacked=True)\n",
    "\n",
    "# Definindo o título e rótulos dos eixos\n",
    "plt.title('Churn por SeniorCitizen')\n",
    "plt.xlabel('SeniorCitizen')\n",
    "plt.xticks(rotation=0)\n",
    "plt.ylabel('Quantidade de Clientes')\n",
    "\n",
    "# Mostrando o gráfico\n",
    "plt.show()"
   ]
  },
  {
   "cell_type": "markdown",
   "metadata": {
    "id": "cKby1Nkn_Dkq"
   },
   "source": [
    "Podemos concluir que a taxa de cancelamento é maior entre os clientes idosos (SeniorCitizen = 1) em comparação com os clientes mais jovens (SeniorCitizen = 0)."
   ]
  },
  {
   "cell_type": "markdown",
   "metadata": {
    "id": "z5jXjEEU_wqx"
   },
   "source": [
    "### Churn por gênero (gender)\n",
    "\n",
    "Agora vamos ver a distribuição do churn em relação ao gênero dos clientes da empresa"
   ]
  },
  {
   "cell_type": "code",
   "execution_count": null,
   "metadata": {
    "colab": {
     "base_uri": "https://localhost:8080/",
     "height": 486
    },
    "id": "aUob4pkZ_0xa",
    "outputId": "1ed4c2a9-cd45-41a0-9272-ddfb10bbcadc"
   },
   "outputs": [
    {
     "data": {
      "image/png": "[encoded data removed]",
      "text/plain": [
       "<Figure size 640x480 with 1 Axes>"
      ]
     },
     "metadata": {},
     "output_type": "display_data"
    }
   ],
   "source": [
    "churn_by_gender = df.groupby(['gender', 'Churn']).size().unstack()\n",
    "churn_by_gender.plot(kind='bar', stacked=True)\n",
    "plt.show()"
   ]
  },
  {
   "cell_type": "markdown",
   "metadata": {
    "id": "SgUVwiWPAB7M"
   },
   "source": [
    "É possível notar que a taxa de cancelamento entre homens e mulheres parece ser relativamente similar, não apresentando grandes diferenças significativas entre as categorias."
   ]
  },
  {
   "cell_type": "markdown",
   "metadata": {
    "id": "ICgNucDNU3io"
   },
   "source": [
    "### Churn por valor mensal (MontlyCharge)\n",
    "Finalmente, vamos ver como o churn varia em relação ao valor mensal.\n",
    "\n",
    "O código a seguir agrupa os dados pelo valor mensal (dividindo os valores em 10 faixas iguais) e pela variável Churn, conta o número de ocorrências para cada combinação e depois plota um gráfico de barras empilhadas. O gráfico resultante é o seguinte:"
   ]
  },
  {
   "cell_type": "code",
   "execution_count": null,
   "metadata": {
    "colab": {
     "base_uri": "https://localhost:8080/",
     "height": 458
    },
    "id": "6yTDS87mVDB_",
    "outputId": "ea624678-80d0-4d69-bf0b-7b22963f9ebe"
   },
   "outputs": [
    {
     "data": {
      "image/png": "[encoded data removed]",
      "text/plain": [
       "<Figure size 640x480 with 1 Axes>"
      ]
     },
     "metadata": {},
     "output_type": "display_data"
    }
   ],
   "source": [
    "churn_by_monthly_charge = df.groupby(['Churn', pd.cut(df['MonthlyCharges'], bins=10)]).size().unstack()\n",
    "churn_by_monthly_charge.plot(kind='bar', stacked=True)\n",
    "plt.show()"
   ]
  },
  {
   "cell_type": "markdown",
   "metadata": {
    "id": "02sHORvyVdgY"
   },
   "source": [
    "Podemos ver que os clientes com valores mensais mais baixos têm uma taxa de churn significativamente menor do que os clientes com valores mensais mais altos."
   ]
  },
  {
   "cell_type": "markdown",
   "metadata": {
    "id": "TDvHoMD_AMK5"
   },
   "source": [
    "### Conclusão da análise exploratória\n",
    "\n",
    "Clientes com **contratos mais longos** e aqueles que pagam por **cartão de crédito** têm uma probabilidade significativamente menor de cancelar seus serviços. \n",
    "\n",
    "Por outro lado, clientes que usam **cheque eletrônico**, **contratos mensais**, **valores mensais mais altos**  e **clientes idosos** tem uma probabilidade significativamente maior de cancelar seus serviços. \n",
    "\n",
    "Dessa forma, podemos considerar como variáveis potenciais para prever cancelamento:\n",
    "\n",
    "`'Contract_Month-to-month', 'PaymentMethod_Electronic check', 'SeniorCitizen_1'`  e `'MonthlyCharges'`\n",
    "\n",
    "Além disso, não parece haver diferenças significativas na taxa de churn entre **homens e mulheres**, e por este motivo, vamos descartar essa variável do nosso estudo. \n",
    "\n"
   ]
  },
  {
   "cell_type": "markdown",
   "metadata": {
    "id": "-MqQZJ3bb3vR"
   },
   "source": [
    "# Criando um dataset com as variáveis selecionadas\n",
    "\n",
    "Agora que selecionamos as variáveis de interesse, precisamos isolar do conjunto de dados original, ou seja, devemos criar um subconjunto e então prosseguir com as etapas para criação do modelo."
   ]
  },
  {
   "cell_type": "markdown",
   "metadata": {
    "id": "d-JdKLSGgdKh"
   },
   "source": [
    "Primeiro, devemos seleecionar as colunas desejadas.\n",
    "\n",
    "O código a seguir filtra nosso conjunto de dados inicial para selecionar as linhas que atendem as variáveis que selecionamos: ter um contrato mensal ('Contract' = 'Month-to-month'), utilizar pagamento eletrônico ('PaymentMethod' = 'Electronic check'), ser um cidadão sênior ('SeniorCitizen' = 1) e ter uma cobrança mensal maior do que $ 70 ('MonthlyCharges' > 70). \n",
    "\n",
    "Em seguida, ele cria um novo DataFrame chamado 'df_test' contendo apenas as colunas 'Contract', 'PaymentMethod', 'SeniorCitizen', 'MonthlyCharges' e 'Churn' dessas linhas filtradas e exibe as primeiras linhas desse DataFrame."
   ]
  },
  {
   "cell_type": "code",
   "execution_count": null,
   "metadata": {
    "colab": {
     "base_uri": "https://localhost:8080/",
     "height": 204
    },
    "id": "0LPQJ1QFm-sq",
    "outputId": "ca6cabf0-7beb-4dc7-f44b-7684ff7c7506"
   },
   "outputs": [
    {
     "data": {
      "text/html": [
       "\n",
       "  <div id=\"df-3481fd6a-cfd1-4851-add0-e463904f81f9\">\n",
       "    <div class=\"colab-df-container\">\n",
       "      <div>\n",
       "<style scoped>\n",
       "    .dataframe tbody tr th:only-of-type {\n",
       "        vertical-align: middle;\n",
       "    }\n",
       "\n",
       "    .dataframe tbody tr th {\n",
       "        vertical-align: top;\n",
       "    }\n",
       "\n",
       "    .dataframe thead th {\n",
       "        text-align: right;\n",
       "    }\n",
       "</style>\n",
       "<table border=\"1\" class=\"dataframe\">\n",
       "  <thead>\n",
       "    <tr style=\"text-align: right;\">\n",
       "      <th></th>\n",
       "      <th>Contract</th>\n",
       "      <th>PaymentMethod</th>\n",
       "      <th>SeniorCitizen</th>\n",
       "      <th>MonthlyCharges</th>\n",
       "      <th>Churn</th>\n",
       "    </tr>\n",
       "  </thead>\n",
       "  <tbody>\n",
       "    <tr>\n",
       "      <th>50</th>\n",
       "      <td>Month-to-month</td>\n",
       "      <td>Electronic check</td>\n",
       "      <td>1</td>\n",
       "      <td>90.25</td>\n",
       "      <td>No</td>\n",
       "    </tr>\n",
       "    <tr>\n",
       "      <th>55</th>\n",
       "      <td>Month-to-month</td>\n",
       "      <td>Electronic check</td>\n",
       "      <td>1</td>\n",
       "      <td>95.45</td>\n",
       "      <td>Yes</td>\n",
       "    </tr>\n",
       "    <tr>\n",
       "      <th>78</th>\n",
       "      <td>Month-to-month</td>\n",
       "      <td>Electronic check</td>\n",
       "      <td>1</td>\n",
       "      <td>74.75</td>\n",
       "      <td>No</td>\n",
       "    </tr>\n",
       "    <tr>\n",
       "      <th>91</th>\n",
       "      <td>Month-to-month</td>\n",
       "      <td>Electronic check</td>\n",
       "      <td>1</td>\n",
       "      <td>74.70</td>\n",
       "      <td>No</td>\n",
       "    </tr>\n",
       "    <tr>\n",
       "      <th>99</th>\n",
       "      <td>Month-to-month</td>\n",
       "      <td>Electronic check</td>\n",
       "      <td>1</td>\n",
       "      <td>98.50</td>\n",
       "      <td>Yes</td>\n",
       "    </tr>\n",
       "  </tbody>\n",
       "</table>\n",
       "</div>\n",
       "      <button class=\"colab-df-convert\" onclick=\"convertToInteractive('df-3481fd6a-cfd1-4851-add0-e463904f81f9')\"\n",
       "              title=\"Convert this dataframe to an interactive table.\"\n",
       "              style=\"display:none;\">\n",
       "        \n",
       "  <svg xmlns=\"http://www.w3.org/2000/svg\" height=\"24px\"viewBox=\"0 0 24 24\"\n",
       "       width=\"24px\">\n",
       "    <path d=\"M0 0h24v24H0V0z\" fill=\"none\"/>\n",
       "    <path d=\"M18.56 5.44l.94 2.06.94-2.06 2.06-.94-2.06-.94-.94-2.06-.94 2.06-2.06.94zm-11 1L8.5 8.5l.94-2.06 2.06-.94-2.06-.94L8.5 2.5l-.94 2.06-2.06.94zm10 10l.94 2.06.94-2.06 2.06-.94-2.06-.94-.94-2.06-.94 2.06-2.06.94z\"/><path d=\"M17.41 7.96l-1.37-1.37c-.4-.4-.92-.59-1.43-.59-.52 0-1.04.2-1.43.59L10.3 9.45l-7.72 7.72c-.78.78-.78 2.05 0 2.83L4 21.41c.39.39.9.59 1.41.59.51 0 1.02-.2 1.41-.59l7.78-7.78 2.81-2.81c.8-.78.8-2.07 0-2.86zM5.41 20L4 18.59l7.72-7.72 1.47 1.35L5.41 20z\"/>\n",
       "  </svg>\n",
       "      </button>\n",
       "      \n",
       "  <style>\n",
       "    .colab-df-container {\n",
       "      display:flex;\n",
       "      flex-wrap:wrap;\n",
       "      gap: 12px;\n",
       "    }\n",
       "\n",
       "    .colab-df-convert {\n",
       "      background-color: #E8F0FE;\n",
       "      border: none;\n",
       "      border-radius: 50%;\n",
       "      cursor: pointer;\n",
       "      display: none;\n",
       "      fill: #1967D2;\n",
       "      height: 32px;\n",
       "      padding: 0 0 0 0;\n",
       "      width: 32px;\n",
       "    }\n",
       "\n",
       "    .colab-df-convert:hover {\n",
       "      background-color: #E2EBFA;\n",
       "      box-shadow: 0px 1px 2px rgba(60, 64, 67, 0.3), 0px 1px 3px 1px rgba(60, 64, 67, 0.15);\n",
       "      fill: #174EA6;\n",
       "    }\n",
       "\n",
       "    [theme=dark] .colab-df-convert {\n",
       "      background-color: #3B4455;\n",
       "      fill: #D2E3FC;\n",
       "    }\n",
       "\n",
       "    [theme=dark] .colab-df-convert:hover {\n",
       "      background-color: #434B5C;\n",
       "      box-shadow: 0px 1px 3px 1px rgba(0, 0, 0, 0.15);\n",
       "      filter: drop-shadow(0px 1px 2px rgba(0, 0, 0, 0.3));\n",
       "      fill: #FFFFFF;\n",
       "    }\n",
       "  </style>\n",
       "\n",
       "      <script>\n",
       "        const buttonEl =\n",
       "          document.querySelector('#df-3481fd6a-cfd1-4851-add0-e463904f81f9 button.colab-df-convert');\n",
       "        buttonEl.style.display =\n",
       "          google.colab.kernel.accessAllowed ? 'block' : 'none';\n",
       "\n",
       "        async function convertToInteractive(key) {\n",
       "          const element = document.querySelector('#df-3481fd6a-cfd1-4851-add0-e463904f81f9');\n",
       "          const dataTable =\n",
       "            await google.colab.kernel.invokeFunction('convertToInteractive',\n",
       "                                                     [key], {});\n",
       "          if (!dataTable) return;\n",
       "\n",
       "          const docLinkHtml = 'Like what you see? Visit the ' +\n",
       "            '<a target=\"_blank\" href=https://colab.research.google.com/notebooks/data_table.ipynb>data table notebook</a>'\n",
       "            + ' to learn more about interactive tables.';\n",
       "          element.innerHTML = '';\n",
       "          dataTable['output_type'] = 'display_data';\n",
       "          await google.colab.output.renderOutput(dataTable, element);\n",
       "          const docLink = document.createElement('div');\n",
       "          docLink.innerHTML = docLinkHtml;\n",
       "          element.appendChild(docLink);\n",
       "        }\n",
       "      </script>\n",
       "    </div>\n",
       "  </div>\n",
       "  "
      ],
      "text/plain": [
       "          Contract     PaymentMethod  SeniorCitizen  MonthlyCharges Churn\n",
       "50  Month-to-month  Electronic check              1           90.25    No\n",
       "55  Month-to-month  Electronic check              1           95.45   Yes\n",
       "78  Month-to-month  Electronic check              1           74.75    No\n",
       "91  Month-to-month  Electronic check              1           74.70    No\n",
       "99  Month-to-month  Electronic check              1           98.50   Yes"
      ]
     },
     "execution_count": 22,
     "metadata": {},
     "output_type": "execute_result"
    }
   ],
   "source": [
    "df_test = df.loc[(df['Contract'] == 'Month-to-month') & (df['PaymentMethod'] == 'Electronic check') & (df['SeniorCitizen'] == 1) & (df['MonthlyCharges'] > 70), ['Contract', 'PaymentMethod', 'SeniorCitizen', 'MonthlyCharges', 'Churn']]\n",
    "df_test.head()"
   ]
  },
  {
   "cell_type": "markdown",
   "metadata": {
    "id": "Ig3JAcqNqOux"
   },
   "source": [
    "Assim como fizemos há pouco para o conjunto de dados primário, vamos plotar um gráfico de pizza para analizar visualmente a distribuição de churn."
   ]
  },
  {
   "cell_type": "code",
   "execution_count": null,
   "metadata": {
    "colab": {
     "base_uri": "https://localhost:8080/",
     "height": 428
    },
    "id": "34YijkSFg5y4",
    "outputId": "6f072be4-8e01-434c-d1dc-30339787cf80"
   },
   "outputs": [
    {
     "data": {
      "image/png": "[encoded data removed]",
      "text/plain": [
       "<Figure size 640x480 with 1 Axes>"
      ]
     },
     "metadata": {},
     "output_type": "display_data"
    }
   ],
   "source": [
    "# Cria um gráfico de pizza com base em uma coluna do DataFrame\n",
    "df_test['Churn'].value_counts().plot(kind='pie')\n",
    "\n",
    "# Adicionar título ao gráfico\n",
    "plt.title('Distribuição de Churn com novo conjunto de dados')\n",
    "\n",
    "# Exibir o gráfico\n",
    "plt.show()"
   ]
  },
  {
   "cell_type": "markdown",
   "metadata": {
    "id": "E23anIpzpfUh"
   },
   "source": [
    "Agora, em números, podemos ver a quantidade de clientes que cancelaram e que não cancelaram os serviços:"
   ]
  },
  {
   "cell_type": "code",
   "execution_count": null,
   "metadata": {
    "colab": {
     "base_uri": "https://localhost:8080/"
    },
    "id": "RMQUAHZSwUYV",
    "outputId": "251a845b-8f3a-45f4-8880-dedcf4fa7ef9"
   },
   "outputs": [
    {
     "name": "stdout",
     "output_type": "stream",
     "text": [
      "Número de clientes que cancelaram o serviço: 164\n",
      "Número de clientes que não cancelaram o serviço: 246\n"
     ]
    }
   ],
   "source": [
    "Churned = df_test[\"Churn\"].value_counts()[1]\n",
    "Not_Churned = df_test[\"Churn\"].value_counts()[0]\n",
    "\n",
    "print(\"Número de clientes que cancelaram o serviço:\", Churned)\n",
    "print(\"Número de clientes que não cancelaram o serviço:\", Not_Churned)"
   ]
  },
  {
   "cell_type": "markdown",
   "metadata": {
    "id": "cLy0hfDGnjJz"
   },
   "source": [
    "Como podemos ver através do gráfico e dos números, a nova base de dados continua desbalanceada. No entanto, ao contrário da base original, a classe majoriatária é a que possui churn positivo, ou seja, dos clientes que cancelaram o serviço, enquanto que a classe minoritária é a dos clientes que não cancelaram. "
   ]
  },
  {
   "cell_type": "markdown",
   "metadata": {
    "id": "EFZ8Mj-MXbA5"
   },
   "source": [
    "# Balanceamento do dataset\n",
    "\n",
    "O balanceamento de dataset é uma técnica utilizada em ciência de dados para lidar com o desequilíbrio na distribuição das classes em um conjunto de dados. Ele busca igualar o número de exemplos em cada classe ou ajustar seus pesos para evitar que a classe majoritária domine a análise do modelo. Essa técnica pode ser importante para melhorar a precisão e a confiabilidade dos modelos de aprendizado de máquina em problemas com classes desbalanceadas."
   ]
  },
  {
   "cell_type": "markdown",
   "metadata": {
    "id": "AJ1SCaBEtiCn"
   },
   "source": [
    "## Categorização de variáveis\n",
    "\n",
    "Variáveis categóricas como `Mont-to-month` e `Eletronic-check` não podem ser usadas diretamente em algoritmos de aprendizado como RandonForest, pois esses algoritmos geralmente trabalham com dados numéricos. \n",
    "\n",
    "Uma forma de resolver isso é utiliznando a técnica de One-hot encoding que resolve esse problema criando uma nova coluna para cada valor distinto da variável categórica e preenchendo a coluna com 1 se o valor da observação corresponde àquela categoria e 0 caso contrário.\n",
    "\n",
    "No nosso caso, vamos aplicar one-hot encoding nas variáveis categóricas (Contract e PaymentMethod) para que elas possam ser usadas pelo algoritmo escolhido.\n",
    "\n"
   ]
  },
  {
   "cell_type": "code",
   "execution_count": null,
   "metadata": {
    "colab": {
     "base_uri": "https://localhost:8080/",
     "height": 204
    },
    "id": "8lq7aXsZgeOD",
    "outputId": "dfebf77f-0726-469a-f49c-c44fc33a0090"
   },
   "outputs": [
    {
     "data": {
      "text/html": [
       "\n",
       "  <div id=\"df-9fdd2814-5fbf-403e-a18b-a6b0678cb054\">\n",
       "    <div class=\"colab-df-container\">\n",
       "      <div>\n",
       "<style scoped>\n",
       "    .dataframe tbody tr th:only-of-type {\n",
       "        vertical-align: middle;\n",
       "    }\n",
       "\n",
       "    .dataframe tbody tr th {\n",
       "        vertical-align: top;\n",
       "    }\n",
       "\n",
       "    .dataframe thead th {\n",
       "        text-align: right;\n",
       "    }\n",
       "</style>\n",
       "<table border=\"1\" class=\"dataframe\">\n",
       "  <thead>\n",
       "    <tr style=\"text-align: right;\">\n",
       "      <th></th>\n",
       "      <th>SeniorCitizen</th>\n",
       "      <th>MonthlyCharges</th>\n",
       "      <th>Churn</th>\n",
       "      <th>Contract_Month-to-month</th>\n",
       "      <th>PaymentMethod_Electronic check</th>\n",
       "    </tr>\n",
       "  </thead>\n",
       "  <tbody>\n",
       "    <tr>\n",
       "      <th>50</th>\n",
       "      <td>1</td>\n",
       "      <td>90.25</td>\n",
       "      <td>No</td>\n",
       "      <td>1</td>\n",
       "      <td>1</td>\n",
       "    </tr>\n",
       "    <tr>\n",
       "      <th>55</th>\n",
       "      <td>1</td>\n",
       "      <td>95.45</td>\n",
       "      <td>Yes</td>\n",
       "      <td>1</td>\n",
       "      <td>1</td>\n",
       "    </tr>\n",
       "    <tr>\n",
       "      <th>78</th>\n",
       "      <td>1</td>\n",
       "      <td>74.75</td>\n",
       "      <td>No</td>\n",
       "      <td>1</td>\n",
       "      <td>1</td>\n",
       "    </tr>\n",
       "    <tr>\n",
       "      <th>91</th>\n",
       "      <td>1</td>\n",
       "      <td>74.70</td>\n",
       "      <td>No</td>\n",
       "      <td>1</td>\n",
       "      <td>1</td>\n",
       "    </tr>\n",
       "    <tr>\n",
       "      <th>99</th>\n",
       "      <td>1</td>\n",
       "      <td>98.50</td>\n",
       "      <td>Yes</td>\n",
       "      <td>1</td>\n",
       "      <td>1</td>\n",
       "    </tr>\n",
       "  </tbody>\n",
       "</table>\n",
       "</div>\n",
       "      <button class=\"colab-df-convert\" onclick=\"convertToInteractive('df-9fdd2814-5fbf-403e-a18b-a6b0678cb054')\"\n",
       "              title=\"Convert this dataframe to an interactive table.\"\n",
       "              style=\"display:none;\">\n",
       "        \n",
       "  <svg xmlns=\"http://www.w3.org/2000/svg\" height=\"24px\"viewBox=\"0 0 24 24\"\n",
       "       width=\"24px\">\n",
       "    <path d=\"M0 0h24v24H0V0z\" fill=\"none\"/>\n",
       "    <path d=\"M18.56 5.44l.94 2.06.94-2.06 2.06-.94-2.06-.94-.94-2.06-.94 2.06-2.06.94zm-11 1L8.5 8.5l.94-2.06 2.06-.94-2.06-.94L8.5 2.5l-.94 2.06-2.06.94zm10 10l.94 2.06.94-2.06 2.06-.94-2.06-.94-.94-2.06-.94 2.06-2.06.94z\"/><path d=\"M17.41 7.96l-1.37-1.37c-.4-.4-.92-.59-1.43-.59-.52 0-1.04.2-1.43.59L10.3 9.45l-7.72 7.72c-.78.78-.78 2.05 0 2.83L4 21.41c.39.39.9.59 1.41.59.51 0 1.02-.2 1.41-.59l7.78-7.78 2.81-2.81c.8-.78.8-2.07 0-2.86zM5.41 20L4 18.59l7.72-7.72 1.47 1.35L5.41 20z\"/>\n",
       "  </svg>\n",
       "      </button>\n",
       "      \n",
       "  <style>\n",
       "    .colab-df-container {\n",
       "      display:flex;\n",
       "      flex-wrap:wrap;\n",
       "      gap: 12px;\n",
       "    }\n",
       "\n",
       "    .colab-df-convert {\n",
       "      background-color: #E8F0FE;\n",
       "      border: none;\n",
       "      border-radius: 50%;\n",
       "      cursor: pointer;\n",
       "      display: none;\n",
       "      fill: #1967D2;\n",
       "      height: 32px;\n",
       "      padding: 0 0 0 0;\n",
       "      width: 32px;\n",
       "    }\n",
       "\n",
       "    .colab-df-convert:hover {\n",
       "      background-color: #E2EBFA;\n",
       "      box-shadow: 0px 1px 2px rgba(60, 64, 67, 0.3), 0px 1px 3px 1px rgba(60, 64, 67, 0.15);\n",
       "      fill: #174EA6;\n",
       "    }\n",
       "\n",
       "    [theme=dark] .colab-df-convert {\n",
       "      background-color: #3B4455;\n",
       "      fill: #D2E3FC;\n",
       "    }\n",
       "\n",
       "    [theme=dark] .colab-df-convert:hover {\n",
       "      background-color: #434B5C;\n",
       "      box-shadow: 0px 1px 3px 1px rgba(0, 0, 0, 0.15);\n",
       "      filter: drop-shadow(0px 1px 2px rgba(0, 0, 0, 0.3));\n",
       "      fill: #FFFFFF;\n",
       "    }\n",
       "  </style>\n",
       "\n",
       "      <script>\n",
       "        const buttonEl =\n",
       "          document.querySelector('#df-9fdd2814-5fbf-403e-a18b-a6b0678cb054 button.colab-df-convert');\n",
       "        buttonEl.style.display =\n",
       "          google.colab.kernel.accessAllowed ? 'block' : 'none';\n",
       "\n",
       "        async function convertToInteractive(key) {\n",
       "          const element = document.querySelector('#df-9fdd2814-5fbf-403e-a18b-a6b0678cb054');\n",
       "          const dataTable =\n",
       "            await google.colab.kernel.invokeFunction('convertToInteractive',\n",
       "                                                     [key], {});\n",
       "          if (!dataTable) return;\n",
       "\n",
       "          const docLinkHtml = 'Like what you see? Visit the ' +\n",
       "            '<a target=\"_blank\" href=https://colab.research.google.com/notebooks/data_table.ipynb>data table notebook</a>'\n",
       "            + ' to learn more about interactive tables.';\n",
       "          element.innerHTML = '';\n",
       "          dataTable['output_type'] = 'display_data';\n",
       "          await google.colab.output.renderOutput(dataTable, element);\n",
       "          const docLink = document.createElement('div');\n",
       "          docLink.innerHTML = docLinkHtml;\n",
       "          element.appendChild(docLink);\n",
       "        }\n",
       "      </script>\n",
       "    </div>\n",
       "  </div>\n",
       "  "
      ],
      "text/plain": [
       "    SeniorCitizen  MonthlyCharges Churn  Contract_Month-to-month  \\\n",
       "50              1           90.25    No                        1   \n",
       "55              1           95.45   Yes                        1   \n",
       "78              1           74.75    No                        1   \n",
       "91              1           74.70    No                        1   \n",
       "99              1           98.50   Yes                        1   \n",
       "\n",
       "    PaymentMethod_Electronic check  \n",
       "50                               1  \n",
       "55                               1  \n",
       "78                               1  \n",
       "91                               1  \n",
       "99                               1  "
      ]
     },
     "execution_count": 25,
     "metadata": {},
     "output_type": "execute_result"
    }
   ],
   "source": [
    "# Aplicando One-Hot Encoding nas colunas categóricas\n",
    "df_test = pd.get_dummies(df_test, columns=['Contract', 'PaymentMethod'])\n",
    "df_test.head()"
   ]
  },
  {
   "cell_type": "markdown",
   "metadata": {
    "id": "CsD24SeitnG9"
   },
   "source": [
    "## Oversampling\n",
    "\n",
    "Para balancear o dataset, vamos utilizar a técnica de oversampling com o algoritmo SMOTE (Synthetic Minority Over-sampling Technique), que é uma técnica usada para lidar com conjuntos de dados desbalanceados. O SMOTE cria novas observações sintéticas para a classe minoritária, gerando uma distribuição de classes mais equilibrada.\n",
    "\n",
    "No nosso caso, temos um conjunto que apresenta uma classe minoritária de clientes que não cancelam o serviço. O uso do SMOTE aqui é uma forma de aumentar o número de observações dessa classe para tornar o conjunto de dados mais equilibrado e evitar que o modelo de aprendizado de máquina fique enviesado em relação à classe majoritária."
   ]
  },
  {
   "cell_type": "markdown",
   "metadata": {
    "id": "y5lTiD6fwp61"
   },
   "source": [
    "\n",
    "Primeiro vamos definir as variáveis independentes do conjunto de dados, excluindo a variável alvo 'Churn'."
   ]
  },
  {
   "cell_type": "code",
   "execution_count": null,
   "metadata": {
    "id": "hz0nYXziwsKU"
   },
   "outputs": [],
   "source": [
    "X = df_test.drop('Churn', axis=1)"
   ]
  },
  {
   "cell_type": "markdown",
   "metadata": {
    "id": "LK3IAFLTwuvV"
   },
   "source": [
    "E também, definir a variável dependente, que é a variável alvo 'Churn'."
   ]
  },
  {
   "cell_type": "code",
   "execution_count": null,
   "metadata": {
    "id": "X1-vWHgww1D5"
   },
   "outputs": [],
   "source": [
    "y = df_test['Churn']"
   ]
  },
  {
   "cell_type": "markdown",
   "metadata": {
    "id": "4zi3_qkPw3Kd"
   },
   "source": [
    "Para aplicar SMOTE, vamos utilizar a biblioteca imblearn"
   ]
  },
  {
   "cell_type": "code",
   "execution_count": null,
   "metadata": {
    "id": "PAYx1AVa33e9"
   },
   "outputs": [],
   "source": [
    "from imblearn.over_sampling import SMOTE\n",
    "# Aplicando SMOTE para balancear as classes\n",
    "smote = SMOTE(random_state=42)"
   ]
  },
  {
   "cell_type": "markdown",
   "metadata": {
    "id": "rSJ1OtQ9xW_l"
   },
   "source": [
    "Com isso, a aplicação do SMOTE nos dados de treinamento gera novas observações sintéticas para a classe minoritária, de modo que as duas classes tenham o mesmo número de observações. O resultado é armazenado nas variáveis X_resampled e y_resampled."
   ]
  },
  {
   "cell_type": "code",
   "execution_count": null,
   "metadata": {
    "id": "JFZ-QE4pxRzY"
   },
   "outputs": [],
   "source": [
    "X_resampled, y_resampled = smote.fit_resample(X, y)"
   ]
  },
  {
   "cell_type": "markdown",
   "metadata": {
    "id": "MjC4OUGexnVI"
   },
   "source": [
    "Por fim, podemos criar um novo DataFrame combinando as variáveis independentes e a variável dependente após a aplicação do SMOTE. Este DataFrame balanceado pode ser usado para treinar nosso modelo."
   ]
  },
  {
   "cell_type": "code",
   "execution_count": null,
   "metadata": {
    "id": "ox209u_5x3T5"
   },
   "outputs": [],
   "source": [
    "df_resampled = pd.concat([X_resampled, y_resampled], axis=1)"
   ]
  },
  {
   "cell_type": "markdown",
   "metadata": {
    "id": "Zwpy5jlSx8hi"
   },
   "source": [
    "Analogamente ao que fizemos nas seções anteriores, vamos verificar graficamente como está a distribuição de churn. "
   ]
  },
  {
   "cell_type": "code",
   "execution_count": null,
   "metadata": {
    "colab": {
     "base_uri": "https://localhost:8080/",
     "height": 428
    },
    "id": "ls_aSTqm89c3",
    "outputId": "628f13d7-cdfa-4908-d092-20d0d37bef26"
   },
   "outputs": [
    {
     "data": {
      "image/png": "[encoded data removed]",
      "text/plain": [
       "<Figure size 640x480 with 1 Axes>"
      ]
     },
     "metadata": {},
     "output_type": "display_data"
    }
   ],
   "source": [
    "# Cria um gráfico de pizza com base em uma coluna do DataFrame\n",
    "df_resampled['Churn'].value_counts().plot(kind='pie')\n",
    "\n",
    "# Adicionar título ao gráfico\n",
    "plt.title('Distribuição de Churn com dataset balanceado')\n",
    "\n",
    "# Exibir o gráfico\n",
    "plt.show()"
   ]
  },
  {
   "cell_type": "markdown",
   "metadata": {
    "id": "SYmigV54mmkn"
   },
   "source": [
    "Agora estmaos com a base dados balanceada. "
   ]
  },
  {
   "cell_type": "markdown",
   "metadata": {
    "id": "qx_rfh1tXlW_"
   },
   "source": [
    "# Preparação do modelo\n",
    "\n",
    "Para a preparação do modelo, foi utilizado o algoritmo de RandomForest com a biblioteca scikit-learn em Python. O conjunto de dados foi dividido em treino, validação e teste, sendo que a calibração dos hiperparâmetros foi realizada usando os conjuntos de treino e validação. Foram definidos os melhores hiperparâmetros para o modelo a partir do uso da técnica de GridSearch. Ao final, foram reportados os resultados de acurácia obtidos nos conjuntos de validação e teste para avaliação do desempenho do modelo."
   ]
  },
  {
   "cell_type": "markdown",
   "metadata": {
    "id": "ITI8CY-PyKuM"
   },
   "source": [
    "## Divisão do conjunto\n",
    "\n",
    "Com a base de dados balanceada, vamos dividi-la em conjuntos de treino, validação e teste, utilizando o método train_test_split:"
   ]
  },
  {
   "cell_type": "code",
   "execution_count": null,
   "metadata": {
    "id": "SfPwkZP8Pxg5"
   },
   "outputs": [],
   "source": [
    "from sklearn.model_selection import train_test_split"
   ]
  },
  {
   "cell_type": "markdown",
   "metadata": {
    "id": "HG8CCyU3nlmi"
   },
   "source": [
    "Primeiro, dividimos o dataset em treino, teste e validação"
   ]
  },
  {
   "cell_type": "code",
   "execution_count": null,
   "metadata": {
    "id": "6RqQ7a5CnOtA"
   },
   "outputs": [],
   "source": [
    "# Divide a base em treinamento e teste\n",
    "X_train_val, X_test, y_train_val, y_test = train_test_split(X_resampled, y_resampled, test_size=0.2, random_state=42)\n",
    "\n",
    "# Divide a base de treinamento em treinamento e validação\n",
    "X_train, X_val, y_train, y_val = train_test_split(X_train_val, y_train_val, test_size=0.25, random_state=42)"
   ]
  },
  {
   "cell_type": "markdown",
   "metadata": {
    "id": "s-vYZfnD_GPH"
   },
   "source": [
    "No código acima a base é dividida em treinamento e teste, usando 20% dos dados para teste e 80% para treinamento. Em seguida, o conjunto de treinamento é dividido novamente em treinamento e validação, usando 25% dos dados para validação e 75% para treinamento."
   ]
  },
  {
   "cell_type": "markdown",
   "metadata": {
    "id": "bA4RTkh2nboz"
   },
   "source": [
    "Por fim, vamos conferir o tamanho de cada conjunto de dados"
   ]
  },
  {
   "cell_type": "code",
   "execution_count": null,
   "metadata": {
    "colab": {
     "base_uri": "https://localhost:8080/"
    },
    "id": "MB_60VGinR2W",
    "outputId": "7ba591de-8865-46dc-8201-73b8dcc45e74"
   },
   "outputs": [
    {
     "name": "stdout",
     "output_type": "stream",
     "text": [
      "Tamanho do conjunto de treino: 294\n",
      "Tamanho do conjunto de validação: 99\n",
      "Tamanho do conjunto de teste: 99\n"
     ]
    }
   ],
   "source": [
    "print(\"Tamanho do conjunto de treino:\", len(X_train))\n",
    "print(\"Tamanho do conjunto de validação:\", len(X_val))\n",
    "print(\"Tamanho do conjunto de teste:\", len(X_test))"
   ]
  },
  {
   "cell_type": "markdown",
   "metadata": {
    "id": "BTU6w86NpCiJ"
   },
   "source": [
    "## Calibrando os hiperparâmetros \n",
    "\n",
    "Para calibrar os hiperparâmetros, vamos utilizar o algoritmo de classificação Random Forest e o método de busca em grade (Grid Search) do pacote scikit-learn. \n",
    "\n",
    "O objetivo do Grid Search é encontrar a combinação perfeita de hiperparâmetros que produzam o melhor desempenho do nosso modelo. Isso é importante porque diferentes conjuntos de hiperparâmetros podem levar a desempenhos muito diferentes do modelo."
   ]
  },
  {
   "cell_type": "code",
   "execution_count": null,
   "metadata": {
    "id": "Fvp3vWhN6z2b"
   },
   "outputs": [],
   "source": [
    "from sklearn.ensemble import RandomForestClassifier\n",
    "from sklearn.metrics import classification_report\n",
    "from sklearn.model_selection import GridSearchCV"
   ]
  },
  {
   "cell_type": "markdown",
   "metadata": {
    "id": "YmNoD9Ks1BEA"
   },
   "source": [
    "No caso do Random Forest, o GridSearch é usado para ajustar os hiperparâmetros do modelo, como o número de árvores, a profundidade máxima de cada árvore, testando todas as combinações possíveis de valores de hiperparâmetros especificados pelo usuário e retorna os valores de hiperparâmetros que produzem o melhor desempenho do modelo com base na métrica especificada, como precisão ou F1-score.\n",
    "\n",
    "Vamos definir uma lista com os parâmetros que queremos calibrar e criar o dicionário de parâmetros para o Grid Search:\n",
    "\n",
    "O objeto a seguir define os seguintes parâmetros de busca \n",
    "\n",
    "* 'n_estimators': o número de árvores na floresta;\n",
    "* 'max_depth': a profundidade máxima de cada árvore na floresta;\n",
    "* 'min_samples_leaf': o número mínimo de amostras necessárias para ser uma folha (nó terminal);\n"
   ]
  },
  {
   "cell_type": "code",
   "execution_count": null,
   "metadata": {
    "id": "_TFHMPgy1Eu9"
   },
   "outputs": [],
   "source": [
    "param_grid = {\n",
    "    'n_estimators': [50, 100, 150, 200, 250, 300],\n",
    "    'max_depth': [5, 10, 15, 20],\n",
    "    'min_samples_leaf': [1, 5, 10, 15],\n",
    "}"
   ]
  },
  {
   "cell_type": "markdown",
   "metadata": {
    "id": "HSRRjmBL1KkL"
   },
   "source": [
    "Em seguida, vamos instanciar o classificador Random Forest e o objeto do Grid Search:"
   ]
  },
  {
   "cell_type": "code",
   "execution_count": null,
   "metadata": {
    "id": "a0FkQ9T41McE"
   },
   "outputs": [],
   "source": [
    "rf = RandomForestClassifier(random_state=42)\n",
    "grid_search = GridSearchCV(rf, param_grid, cv=5, scoring='accuracy')"
   ]
  },
  {
   "cell_type": "markdown",
   "metadata": {
    "id": "aCktK_-R1URC"
   },
   "source": [
    "O parâmetro \"cv=5\" significa que vamos usar um método de validação cruzada com 5 partes diferentes do nosso conjunto de dados. Isso é útil porque nos ajuda a avaliar o quão bem o nosso modelo irá generalizar para dados que não foram vistos durante o treinamento.\n",
    "\n",
    "A métrica de avaliação que usaremos para julgar a qualidade do nosso modelo é determinada pelo parâmetro \"scoring='accuracy'\". Neste caso, estamos escolhendo usar a acurácia como nossa métrica de avaliação. Isso significa que queremos saber com que frequência nosso modelo faz previsões corretas.\n",
    "\n",
    "Agora, vamos usar o Grid Search para treinar nosso modelo usando conjuntos de treinamento e validação para encontrar a melhor combinação de hiperparâmetros."
   ]
  },
  {
   "cell_type": "code",
   "execution_count": null,
   "metadata": {
    "colab": {
     "base_uri": "https://localhost:8080/",
     "height": 115
    },
    "id": "5uIINkh21X4P",
    "outputId": "1ba6dd8b-a3d7-424b-e72f-9077d86a5ae8"
   },
   "outputs": [
    {
     "data": {
      "text/html": [
       "<style>#sk-container-id-5 {color: black;background-color: white;}#sk-container-id-5 pre{padding: 0;}#sk-container-id-5 div.sk-toggleable {background-color: white;}#sk-container-id-5 label.sk-toggleable__label {cursor: pointer;display: block;width: 100%;margin-bottom: 0;padding: 0.3em;box-sizing: border-box;text-align: center;}#sk-container-id-5 label.sk-toggleable__label-arrow:before {content: \"▸\";float: left;margin-right: 0.25em;color: #696969;}#sk-container-id-5 label.sk-toggleable__label-arrow:hover:before {color: black;}#sk-container-id-5 div.sk-estimator:hover label.sk-toggleable__label-arrow:before {color: black;}#sk-container-id-5 div.sk-toggleable__content {max-height: 0;max-width: 0;overflow: hidden;text-align: left;background-color: #f0f8ff;}#sk-container-id-5 div.sk-toggleable__content pre {margin: 0.2em;color: black;border-radius: 0.25em;background-color: #f0f8ff;}#sk-container-id-5 input.sk-toggleable__control:checked~div.sk-toggleable__content {max-height: 200px;max-width: 100%;overflow: auto;}#sk-container-id-5 input.sk-toggleable__control:checked~label.sk-toggleable__label-arrow:before {content: \"▾\";}#sk-container-id-5 div.sk-estimator input.sk-toggleable__control:checked~label.sk-toggleable__label {background-color: #d4ebff;}#sk-container-id-5 div.sk-label input.sk-toggleable__control:checked~label.sk-toggleable__label {background-color: #d4ebff;}#sk-container-id-5 input.sk-hidden--visually {border: 0;clip: rect(1px 1px 1px 1px);clip: rect(1px, 1px, 1px, 1px);height: 1px;margin: -1px;overflow: hidden;padding: 0;position: absolute;width: 1px;}#sk-container-id-5 div.sk-estimator {font-family: monospace;background-color: #f0f8ff;border: 1px dotted black;border-radius: 0.25em;box-sizing: border-box;margin-bottom: 0.5em;}#sk-container-id-5 div.sk-estimator:hover {background-color: #d4ebff;}#sk-container-id-5 div.sk-parallel-item::after {content: \"\";width: 100%;border-bottom: 1px solid gray;flex-grow: 1;}#sk-container-id-5 div.sk-label:hover label.sk-toggleable__label {background-color: #d4ebff;}#sk-container-id-5 div.sk-serial::before {content: \"\";position: absolute;border-left: 1px solid gray;box-sizing: border-box;top: 0;bottom: 0;left: 50%;z-index: 0;}#sk-container-id-5 div.sk-serial {display: flex;flex-direction: column;align-items: center;background-color: white;padding-right: 0.2em;padding-left: 0.2em;position: relative;}#sk-container-id-5 div.sk-item {position: relative;z-index: 1;}#sk-container-id-5 div.sk-parallel {display: flex;align-items: stretch;justify-content: center;background-color: white;position: relative;}#sk-container-id-5 div.sk-item::before, #sk-container-id-5 div.sk-parallel-item::before {content: \"\";position: absolute;border-left: 1px solid gray;box-sizing: border-box;top: 0;bottom: 0;left: 50%;z-index: -1;}#sk-container-id-5 div.sk-parallel-item {display: flex;flex-direction: column;z-index: 1;position: relative;background-color: white;}#sk-container-id-5 div.sk-parallel-item:first-child::after {align-self: flex-end;width: 50%;}#sk-container-id-5 div.sk-parallel-item:last-child::after {align-self: flex-start;width: 50%;}#sk-container-id-5 div.sk-parallel-item:only-child::after {width: 0;}#sk-container-id-5 div.sk-dashed-wrapped {border: 1px dashed gray;margin: 0 0.4em 0.5em 0.4em;box-sizing: border-box;padding-bottom: 0.4em;background-color: white;}#sk-container-id-5 div.sk-label label {font-family: monospace;font-weight: bold;display: inline-block;line-height: 1.2em;}#sk-container-id-5 div.sk-label-container {text-align: center;}#sk-container-id-5 div.sk-container {/* jupyter's `normalize.less` sets `[hidden] { display: none; }` but bootstrap.min.css set `[hidden] { display: none !important; }` so we also need the `!important` here to be able to override the default hidden behavior on the sphinx rendered scikit-learn.org. See: https://github.com/scikit-learn/scikit-learn/issues/21755 */display: inline-block !important;position: relative;}#sk-container-id-5 div.sk-text-repr-fallback {display: none;}</style><div id=\"sk-container-id-5\" class=\"sk-top-container\"><div class=\"sk-text-repr-fallback\"><pre>GridSearchCV(cv=5, estimator=RandomForestClassifier(random_state=42),\n",
       "             param_grid={&#x27;max_depth&#x27;: [5, 10, 15, 20],\n",
       "                         &#x27;min_samples_leaf&#x27;: [1, 5, 10, 15],\n",
       "                         &#x27;n_estimators&#x27;: [50, 100, 150, 200, 250, 300]},\n",
       "             scoring=&#x27;accuracy&#x27;)</pre><b>In a Jupyter environment, please rerun this cell to show the HTML representation or trust the notebook. <br />On GitHub, the HTML representation is unable to render, please try loading this page with nbviewer.org.</b></div><div class=\"sk-container\" hidden><div class=\"sk-item sk-dashed-wrapped\"><div class=\"sk-label-container\"><div class=\"sk-label sk-toggleable\"><input class=\"sk-toggleable__control sk-hidden--visually\" id=\"sk-estimator-id-11\" type=\"checkbox\" ><label for=\"sk-estimator-id-11\" class=\"sk-toggleable__label sk-toggleable__label-arrow\">GridSearchCV</label><div class=\"sk-toggleable__content\"><pre>GridSearchCV(cv=5, estimator=RandomForestClassifier(random_state=42),\n",
       "             param_grid={&#x27;max_depth&#x27;: [5, 10, 15, 20],\n",
       "                         &#x27;min_samples_leaf&#x27;: [1, 5, 10, 15],\n",
       "                         &#x27;n_estimators&#x27;: [50, 100, 150, 200, 250, 300]},\n",
       "             scoring=&#x27;accuracy&#x27;)</pre></div></div></div><div class=\"sk-parallel\"><div class=\"sk-parallel-item\"><div class=\"sk-item\"><div class=\"sk-label-container\"><div class=\"sk-label sk-toggleable\"><input class=\"sk-toggleable__control sk-hidden--visually\" id=\"sk-estimator-id-12\" type=\"checkbox\" ><label for=\"sk-estimator-id-12\" class=\"sk-toggleable__label sk-toggleable__label-arrow\">estimator: RandomForestClassifier</label><div class=\"sk-toggleable__content\"><pre>RandomForestClassifier(random_state=42)</pre></div></div></div><div class=\"sk-serial\"><div class=\"sk-item\"><div class=\"sk-estimator sk-toggleable\"><input class=\"sk-toggleable__control sk-hidden--visually\" id=\"sk-estimator-id-13\" type=\"checkbox\" ><label for=\"sk-estimator-id-13\" class=\"sk-toggleable__label sk-toggleable__label-arrow\">RandomForestClassifier</label><div class=\"sk-toggleable__content\"><pre>RandomForestClassifier(random_state=42)</pre></div></div></div></div></div></div></div></div></div></div>"
      ],
      "text/plain": [
       "GridSearchCV(cv=5, estimator=RandomForestClassifier(random_state=42),\n",
       "             param_grid={'max_depth': [5, 10, 15, 20],\n",
       "                         'min_samples_leaf': [1, 5, 10, 15],\n",
       "                         'n_estimators': [50, 100, 150, 200, 250, 300]},\n",
       "             scoring='accuracy')"
      ]
     },
     "execution_count": 68,
     "metadata": {},
     "output_type": "execute_result"
    }
   ],
   "source": [
    "grid_search.fit(X_train_val, y_train_val)"
   ]
  },
  {
   "cell_type": "markdown",
   "metadata": {
    "id": "vSVLMSDF105a"
   },
   "source": [
    "Com o Grid Search treinado, podemos imprimir os melhores parâmetros encontrados e a melhor pontuação:"
   ]
  },
  {
   "cell_type": "code",
   "execution_count": null,
   "metadata": {
    "colab": {
     "base_uri": "https://localhost:8080/"
    },
    "id": "Z1PsUNR_15nf",
    "outputId": "9fb81503-84f4-4365-daa0-271856e169de"
   },
   "outputs": [
    {
     "name": "stdout",
     "output_type": "stream",
     "text": [
      "Melhores parâmetros:  {'max_depth': 10, 'min_samples_leaf': 1, 'n_estimators': 100}\n",
      "Melhor pontuação:  0.6030509574813372\n"
     ]
    }
   ],
   "source": [
    "print(\"Melhores parâmetros: \", grid_search.best_params_)\n",
    "print(\"Melhor pontuação: \", grid_search.best_score_)"
   ]
  },
  {
   "cell_type": "markdown",
   "metadata": {
    "id": "EnEFbtJ0vKsb"
   },
   "source": [
    "Ou seja, a melhor pontuação para este modelo é de aproximadamente 60%, para os hiperparâmetros \n",
    "\n",
    "{'max_depth': 10, 'min_samples_leaf': 1, 'n_estimators': 100}"
   ]
  },
  {
   "cell_type": "markdown",
   "metadata": {
    "id": "fgJJveSpGGbY"
   },
   "source": [
    "Vamos agora criar o modelo definitivo com os melhores parâmetros obtidos do Grid Search"
   ]
  },
  {
   "cell_type": "code",
   "execution_count": null,
   "metadata": {
    "colab": {
     "base_uri": "https://localhost:8080/",
     "height": 74
    },
    "id": "ZleiJNEYByIe",
    "outputId": "f7588c56-6f72-487e-95f0-6ebb8bfc03c6"
   },
   "outputs": [
    {
     "data": {
      "text/html": [
       "<style>#sk-container-id-6 {color: black;background-color: white;}#sk-container-id-6 pre{padding: 0;}#sk-container-id-6 div.sk-toggleable {background-color: white;}#sk-container-id-6 label.sk-toggleable__label {cursor: pointer;display: block;width: 100%;margin-bottom: 0;padding: 0.3em;box-sizing: border-box;text-align: center;}#sk-container-id-6 label.sk-toggleable__label-arrow:before {content: \"▸\";float: left;margin-right: 0.25em;color: #696969;}#sk-container-id-6 label.sk-toggleable__label-arrow:hover:before {color: black;}#sk-container-id-6 div.sk-estimator:hover label.sk-toggleable__label-arrow:before {color: black;}#sk-container-id-6 div.sk-toggleable__content {max-height: 0;max-width: 0;overflow: hidden;text-align: left;background-color: #f0f8ff;}#sk-container-id-6 div.sk-toggleable__content pre {margin: 0.2em;color: black;border-radius: 0.25em;background-color: #f0f8ff;}#sk-container-id-6 input.sk-toggleable__control:checked~div.sk-toggleable__content {max-height: 200px;max-width: 100%;overflow: auto;}#sk-container-id-6 input.sk-toggleable__control:checked~label.sk-toggleable__label-arrow:before {content: \"▾\";}#sk-container-id-6 div.sk-estimator input.sk-toggleable__control:checked~label.sk-toggleable__label {background-color: #d4ebff;}#sk-container-id-6 div.sk-label input.sk-toggleable__control:checked~label.sk-toggleable__label {background-color: #d4ebff;}#sk-container-id-6 input.sk-hidden--visually {border: 0;clip: rect(1px 1px 1px 1px);clip: rect(1px, 1px, 1px, 1px);height: 1px;margin: -1px;overflow: hidden;padding: 0;position: absolute;width: 1px;}#sk-container-id-6 div.sk-estimator {font-family: monospace;background-color: #f0f8ff;border: 1px dotted black;border-radius: 0.25em;box-sizing: border-box;margin-bottom: 0.5em;}#sk-container-id-6 div.sk-estimator:hover {background-color: #d4ebff;}#sk-container-id-6 div.sk-parallel-item::after {content: \"\";width: 100%;border-bottom: 1px solid gray;flex-grow: 1;}#sk-container-id-6 div.sk-label:hover label.sk-toggleable__label {background-color: #d4ebff;}#sk-container-id-6 div.sk-serial::before {content: \"\";position: absolute;border-left: 1px solid gray;box-sizing: border-box;top: 0;bottom: 0;left: 50%;z-index: 0;}#sk-container-id-6 div.sk-serial {display: flex;flex-direction: column;align-items: center;background-color: white;padding-right: 0.2em;padding-left: 0.2em;position: relative;}#sk-container-id-6 div.sk-item {position: relative;z-index: 1;}#sk-container-id-6 div.sk-parallel {display: flex;align-items: stretch;justify-content: center;background-color: white;position: relative;}#sk-container-id-6 div.sk-item::before, #sk-container-id-6 div.sk-parallel-item::before {content: \"\";position: absolute;border-left: 1px solid gray;box-sizing: border-box;top: 0;bottom: 0;left: 50%;z-index: -1;}#sk-container-id-6 div.sk-parallel-item {display: flex;flex-direction: column;z-index: 1;position: relative;background-color: white;}#sk-container-id-6 div.sk-parallel-item:first-child::after {align-self: flex-end;width: 50%;}#sk-container-id-6 div.sk-parallel-item:last-child::after {align-self: flex-start;width: 50%;}#sk-container-id-6 div.sk-parallel-item:only-child::after {width: 0;}#sk-container-id-6 div.sk-dashed-wrapped {border: 1px dashed gray;margin: 0 0.4em 0.5em 0.4em;box-sizing: border-box;padding-bottom: 0.4em;background-color: white;}#sk-container-id-6 div.sk-label label {font-family: monospace;font-weight: bold;display: inline-block;line-height: 1.2em;}#sk-container-id-6 div.sk-label-container {text-align: center;}#sk-container-id-6 div.sk-container {/* jupyter's `normalize.less` sets `[hidden] { display: none; }` but bootstrap.min.css set `[hidden] { display: none !important; }` so we also need the `!important` here to be able to override the default hidden behavior on the sphinx rendered scikit-learn.org. See: https://github.com/scikit-learn/scikit-learn/issues/21755 */display: inline-block !important;position: relative;}#sk-container-id-6 div.sk-text-repr-fallback {display: none;}</style><div id=\"sk-container-id-6\" class=\"sk-top-container\"><div class=\"sk-text-repr-fallback\"><pre>RandomForestClassifier(max_depth=10, random_state=42)</pre><b>In a Jupyter environment, please rerun this cell to show the HTML representation or trust the notebook. <br />On GitHub, the HTML representation is unable to render, please try loading this page with nbviewer.org.</b></div><div class=\"sk-container\" hidden><div class=\"sk-item\"><div class=\"sk-estimator sk-toggleable\"><input class=\"sk-toggleable__control sk-hidden--visually\" id=\"sk-estimator-id-14\" type=\"checkbox\" checked><label for=\"sk-estimator-id-14\" class=\"sk-toggleable__label sk-toggleable__label-arrow\">RandomForestClassifier</label><div class=\"sk-toggleable__content\"><pre>RandomForestClassifier(max_depth=10, random_state=42)</pre></div></div></div></div></div>"
      ],
      "text/plain": [
       "RandomForestClassifier(max_depth=10, random_state=42)"
      ]
     },
     "execution_count": 70,
     "metadata": {},
     "output_type": "execute_result"
    }
   ],
   "source": [
    "# Treina o modelo com os melhores hiperparâmetros encontrados\n",
    "best_rf = RandomForestClassifier(**grid_search.best_params_, random_state=42)\n",
    "best_rf.fit(X_train, y_train)"
   ]
  },
  {
   "cell_type": "markdown",
   "metadata": {
    "id": "iuRTAv8LGS3x"
   },
   "source": [
    "Por fim, vamos fazer uma rápida checagem nos indicadores de desempenhon obtidos do conjunto de de validação e teste. "
   ]
  },
  {
   "cell_type": "code",
   "execution_count": null,
   "metadata": {
    "colab": {
     "base_uri": "https://localhost:8080/"
    },
    "id": "kK4gGLM1Bx_O",
    "outputId": "b5097363-1818-481e-d63a-1ba67e3f50e1"
   },
   "outputs": [
    {
     "name": "stdout",
     "output_type": "stream",
     "text": [
      "Acurácia no conjunto de validação:  0.5454545454545454\n",
      "Acurácia no conjunto de teste:  0.5757575757575758\n"
     ]
    }
   ],
   "source": [
    "# Avalia o desempenho do modelo no conjunto de validação\n",
    "val_score = best_rf.score(X_val, y_val)\n",
    "print(\"Acurácia no conjunto de validação: \", val_score)\n",
    "\n",
    "# Avalia o desempenho do modelo no conjunto de teste\n",
    "test_score = best_rf.score(X_test, y_test)\n",
    "print(\"Acurácia no conjunto de teste: \", test_score)"
   ]
  },
  {
   "cell_type": "markdown",
   "metadata": {
    "id": "svtIw2eXG0cm"
   },
   "source": [
    "A acurácia de 54,5% no conjunto de validação significa que o modelo acertou corretamente a classe dos clientes que cancelaram ou não em cerca de 54,5% das vezes. Já a acurácia de 57,5% no conjunto de teste indica que o modelo acertou a classe dos clientes em cerca de 57,5% das vezes. A seguir, vamos conferir outras métricas de desempenho e discutir os resultados. "
   ]
  },
  {
   "cell_type": "markdown",
   "metadata": {
    "id": "Jz49r8pqsKPc"
   },
   "source": [
    "# Avaliando a desempenho\n",
    "\n",
    "Algumas métricas comuns para avaliar o desempenho de um modelo de classificação binária incluem:\n",
    "\n",
    "* Acurácia (accuracy): número de previsões corretas dividido pelo número total de previsões.\n",
    "* Precisão (precision): número de verdadeiros positivos dividido pelo número total de positivos previstos (verdadeiros positivos + falsos positivos).\n",
    "* Recall (revocação): número de verdadeiros positivos dividido pelo número total de positivos reais (verdadeiros positivos + falsos negativos).\n",
    "* F1-Score: média harmônica da precisão e do recall.\n",
    "\n",
    "Para calcular essas métricas no conjunto de teste, podemos utilizar o método predict do modelo para gerar previsões e compará-las com as classes reais. Em seguida, podemos utilizar a função classification_report do scikit-learn para gerar um relatório com as métricas de desempenho."
   ]
  },
  {
   "cell_type": "code",
   "execution_count": null,
   "metadata": {
    "colab": {
     "base_uri": "https://localhost:8080/"
    },
    "id": "97ih60kW9A2Z",
    "outputId": "3625cd15-1b98-471a-fc94-8e0639e79c96"
   },
   "outputs": [
    {
     "name": "stdout",
     "output_type": "stream",
     "text": [
      "              precision    recall  f1-score   support\n",
      "\n",
      "          No       0.65      0.55      0.60        56\n",
      "         Yes       0.51      0.60      0.55        43\n",
      "\n",
      "    accuracy                           0.58        99\n",
      "   macro avg       0.58      0.58      0.57        99\n",
      "weighted avg       0.59      0.58      0.58        99\n",
      "\n"
     ]
    }
   ],
   "source": [
    "from sklearn.metrics import classification_report\n",
    "\n",
    "# gerar previsões no conjunto de teste\n",
    "y_pred = best_rf.predict(X_test)\n",
    "\n",
    "# imprimir o relatório de métricas de desempenho\n",
    "print(classification_report(y_test, y_pred))"
   ]
  },
  {
   "cell_type": "markdown",
   "metadata": {
    "id": "g_ihIEUsuPPT"
   },
   "source": [
    "\n",
    "Observando as métricas, podemos ver que o modelo tem uma acurácia de 0.58, ou seja, ele acertou em cerca de 58% das previsões no conjunto de teste. A precisão é relativamente baixa para ambas as classes, com valores de 0.65 para a classe dos clientes que não cancelaram os serviços (No) e 0.51 para a classe dos que cancelaram (Yes). Isso indica que o modelo tem uma tendência a prever falsos positivos para a classe No e falsos negativos para a classe Yes. O recall é um pouco melhor, com valores de 0.55 para a classe No e 0.60 para a classe Yes. O f1-score, que é uma média harmônica da precisão e do recall, apresenta valores semelhantes para ambas as classes, com valores de 0.60 para a classe No e 0.55 para a classe Yes.\n",
    "\n",
    "Essas métricas indicam que o modelo pode ser melhorado e ajustado para melhorar sua performance. Por exemplo, poderíamos tentar ajustar os hiperparâmetros do modelo, ou ainda considerar outras técnicas de balanceamento de dados para tratar o desbalanceamento das classes."
   ]
  },
  {
   "cell_type": "markdown",
   "metadata": {
    "id": "g0GjGPIfX_Co"
   },
   "source": [
    "# Conclusão"
   ]
  },
  {
   "cell_type": "markdown",
   "metadata": {
    "id": "VeyQQQIH8sMr"
   },
   "source": [
    "Com base nos resultados obtidos, podemos concluir que o modelo de Random Forest foi capaz de prever o cancelamento de serviços dos clientes com uma acurácia de 58%, sendo que a precisão para a classe \"No\" foi de 65% e a precisão para a classe \"Yes\" foi de 51%. Isso significa que o modelo conseguiu identificar corretamente cerca de 65% dos clientes que não cancelaram o serviço e 51% dos clientes que cancelaram o serviço, não atingindo assim o objetivo principal deste teste, que é criar um modelo que identifique clientes propensos ao cancelamento.\n",
    "\n",
    "No entanto, é importante destacar que existem outros modelos que poderiam ser testados para tentar melhorar o desempenho da previsão de cancelamento de serviços, assim como outras técnicas de pré-processamento e seleção de variáveis que poderiam ser utilizadas, através de uma análise mais aprofundada na análise exploratória para considerar outras variáveis e entender melhor os fatores que influenciam o churn nesta empresa."
   ]
  },
  {
   "cell_type": "markdown",
   "metadata": {
    "id": "4mrDxgOpYDjW"
   },
   "source": [
    "# Referências"
   ]
  },
  {
   "cell_type": "markdown",
   "metadata": {
    "id": "Ro1BiOULLegV"
   },
   "source": [
    "**DIDÁTICA TECH**. Como encontrar a melhor performance em Machine Learning? Disponível em: https://didatica.tech/como-encontrar-a-melhor-performance-machine-learning/. Acesso em: 31 mar. 2023.\n",
    "\n",
    "**GADHOK**, Aayush. Hyperparameter Tuning the Random Forest in Python Using Scikit-Learn. Towards Data Science, 2019. Disponível em: https://towardsdatascience.com/hyperparameter-tuning-the-random-forest-in-python-using-scikit-learn-28d2aa77dd74. Acesso em: 01 abr. 2023.\n",
    "\n",
    "**MICROSOFT**. SMOTE. Microsoft Learn, [s.d.]. Disponível em: https://learn.microsoft.com/pt-br/azure/machine-learning/component-reference/smote. Acesso em: 01 abr. 2023.\n",
    "\n",
    "**SCIKIT-LEARN**. Grid SearchCV: Exaustive search over specified parameter values for an estimator. Disponível em: https://scikit-learn.org/stable/modules/grid_search.html. Acesso em: 01 abr. 2023.\n",
    "\n",
    "**RESULTADOS DIGITAIS**. O que é Churn? Disponível em: https://resultadosdigitais.com.br/marketing/o-que-e-churn/. Acesso em: 31 mar. 2023.\n",
    "\n",
    "**KOHLI**, Shivam. Understanding a Classification Report For Your Machine Learning Model. Medium, 2020. Disponível em: https://medium.com/@kohlishivam5522/understanding-a-classification-report-for-your-machine-learning-model-88815e2ce397. Acesso em: 04 abr. 2023.\n",
    "\n",
    "\n"
   ]
  }
 ],
 "metadata": {
  "colab": {
   "collapsed_sections": [
    "vzrKvp5SYIEh",
    "gqSOpQ1AXMcH",
    "z1HbAvS2qgK8",
    "ITIJtP_8rJpp",
    "F7loT_Lmp2Uv",
    "mg6Q1ZbfTaXX",
    "MS0donz2UJ_b",
    "ltzLVS1p9Xnh",
    "z5jXjEEU_wqx",
    "ICgNucDNU3io",
    "TDvHoMD_AMK5",
    "-MqQZJ3bb3vR",
    "EFZ8Mj-MXbA5",
    "AJ1SCaBEtiCn",
    "CsD24SeitnG9",
    "Jz49r8pqsKPc",
    "g0GjGPIfX_Co",
    "4mrDxgOpYDjW"
   ],
   "provenance": []
  },
  "kernelspec": {
   "display_name": "Python 3",
   "language": "python",
   "name": "python3"
  },
  "language_info": {
   "codemirror_mode": {
    "name": "ipython",
    "version": 3
   },
   "file_extension": ".py",
   "mimetype": "text/x-python",
   "name": "python",
   "nbconvert_exporter": "python",
   "pygments_lexer": "ipython3",
   "version": "3.8.8"
  }
 },
 "nbformat": 4,
 "nbformat_minor": 1
}
